{
 "cells": [
  {
   "cell_type": "code",
   "execution_count": 170,
   "metadata": {},
   "outputs": [
    {
     "name": "stdout",
     "output_type": "stream",
     "text": [
      "[]\n",
      "[]\n"
     ]
    }
   ],
   "source": [
    "import time\n",
    "Z_times = []\n",
    "Sunday_times = []\n",
    "\n",
    "print(Sunday_times)\n",
    "print(Z_times)\n"
   ]
  },
  {
   "cell_type": "code",
   "execution_count": 171,
   "metadata": {},
   "outputs": [
    {
     "name": "stdout",
     "output_type": "stream",
     "text": [
      "2\n"
     ]
    }
   ],
   "source": [
    "loop = 1\n",
    "\n",
    "for i in range(loop):\n",
    "    Sunday_set_time = time.time()\n",
    "\n",
    "    def check(char, pat,lenpat,textindex):\n",
    "        j = lenpat - 1\n",
    "        a = -1\n",
    "        while j >= 0:\n",
    "            if pat[j] == char:\n",
    "                a = textindex - j\n",
    "                break\n",
    "            j -=1\n",
    "        return a\n",
    "     \n",
    "    def sundayAlg(text,pat):\n",
    "        t ,p= len(text),len(pat)\n",
    "        i = 0\n",
    "        j = p - 1\n",
    "        while i < t-p :\n",
    "            b = 0\n",
    "            z = p - 1\n",
    "            while b < p: \n",
    "                if pat[z] != text[i+z]:\n",
    "                    a = check(text[i+j+1],pat,p,i+j+1)\n",
    "                    if a < 0:\n",
    "                        i = i + j + 2 \n",
    "                    else: \n",
    "                        i = a\n",
    "                    break     \n",
    "                z-=1\n",
    "                b+=1               \n",
    "            else:\n",
    "                break\n",
    "        return i                  \n",
    "\n",
    "    print(sundayAlg('abcadabadccdbabd', 'cadab')) \n",
    "\n",
    "    time.sleep(3)\n",
    "\n",
    "    Sunday_after_op_time = time.time()\n",
    "\n",
    "    Sunday_elapsed_time = Sunday_after_op_time -Sunday_set_time - 3\n",
    "    Sunday_times.append(Sunday_elapsed_time)\n",
    "\n"
   ]
  },
  {
   "cell_type": "code",
   "execution_count": 172,
   "metadata": {},
   "outputs": [
    {
     "name": "stdout",
     "output_type": "stream",
     "text": [
      "Pattern found at index 2\n"
     ]
    }
   ],
   "source": [
    "loop = 1\n",
    "\n",
    "\n",
    "def getZarr(string, z):\n",
    "\tn = len(string)\n",
    "\tl, r, k = 0, 0, 0\n",
    "\tfor i in range(1, n):\t\n",
    "\t\tif i > r:\n",
    "\t\t\tl, r = i, i\t\n",
    "\t\t\twhile r < n and string[r - l] == string[r]:\n",
    "\t\t\t\tr += 1\n",
    "\t\t\tz[i] = r - l\n",
    "\t\t\tr -= 1\n",
    "\t\telse:\t\n",
    "\t\t\tk = i - l\t\n",
    "\t\t\tif z[k] < r - i + 1:\n",
    "\t\t\t\tz[i] = z[k]\t\n",
    "\t\t\telse:\t\n",
    "\t\t\t\tl = i\n",
    "\t\t\t\twhile r < n and string[r - l] == string[r]:\n",
    "\t\t\t\t\tr += 1\n",
    "\t\t\t\tz[i] = r - l\n",
    "\t\t\t\tr -= 1\n",
    "\n",
    "\n",
    "def searchZarr(text, pattern):\n",
    "\tconcat = pattern + \"$\" + text\n",
    "\tl = len(concat)\n",
    "\tz = [0] * l\n",
    "\tgetZarr(concat, z)\n",
    "\tfor i in range(l):\n",
    "\t\tif z[i] == len(pattern):\n",
    "\t\t\tprint(\"Pattern found at index\",\n",
    "\t\t\t\t\ti - len(pattern) - 1)\n",
    "\n",
    "\n",
    "\n",
    "txt = 'abcadabadccdbabd'\n",
    "pat =  'cadab'\n",
    "\n",
    "\n",
    "for i in range(loop):\n",
    "\t\n",
    "    Z_set_time = time.time()\n",
    "    searchZarr(txt,pat)\n",
    "    time.sleep(3)\n",
    "    Z_after_op_time = time.time()\n",
    "    Z_elapsed_time = Z_after_op_time - Z_set_time - 3\n",
    "    Z_times.append(Z_elapsed_time)     \n"
   ]
  },
  {
   "cell_type": "code",
   "execution_count": 173,
   "metadata": {},
   "outputs": [
    {
     "name": "stdout",
     "output_type": "stream",
     "text": [
      "[0.0001380443572998047]\n",
      "[0.0010106563568115234]\n",
      "0.0001380443572998047 0.0010106563568115234\n"
     ]
    },
    {
     "data": {
      "image/png": "[encoded data removed]",
      "text/plain": [
       "<Figure size 640x480 with 1 Axes>"
      ]
     },
     "metadata": {},
     "output_type": "display_data"
    }
   ],
   "source": [
    "print(Z_times)\n",
    "print(Sunday_times)\n",
    "Z_average = 0\n",
    "for i in range(len(Z_times)):\n",
    "    Z_average += Z_times[i]\n",
    "Z_average /= 1  \n",
    "\n",
    "Sunday_average = 0\n",
    "for i in range(len(Sunday_times)):\n",
    "    Sunday_average += Sunday_times[i]\n",
    "Sunday_average /= 1\n",
    "\n",
    "import matplotlib.pyplot as plt\n",
    "\n",
    "Algnames = [\"Z Algorithm\",\"Sunday Algorithm\"]\n",
    "Algtimes = [Z_average,Sunday_average]\n",
    "print(Z_average,Sunday_average)\n",
    "\n",
    "plt.bar(Algnames,Algtimes)\n",
    "\n",
    "plt.xlabel(\"Algorithms\")\n",
    "plt.ylabel(\"Execution Time\")\n",
    "\n",
    "plt.title(\"text = abcadabadccdbabd, pattern = cadab  with 1 times\")\n",
    "\n",
    "plt.show()"
   ]
  },
  {
   "attachments": {},
   "cell_type": "markdown",
   "metadata": {},
   "source": [
    "1. In the 100 Times Sunday is a little bit faster than Z\n",
    "2. In the 10 Times Z is a little bit faster than Sunday\n",
    "3. In the 1 Times Z a little bit faster than Sunday\n",
    "\n",
    "But sometimes Sunday can be faster 3x or 2x than Z but it can be reverse to"
   ]
  },
  {
   "attachments": {},
   "cell_type": "markdown",
   "metadata": {},
   "source": [
    "KMP VS RABIN-KARP"
   ]
  },
  {
   "cell_type": "code",
   "execution_count": 174,
   "metadata": {},
   "outputs": [],
   "source": [
    "Kmp_times = []\n",
    "Rabin_times = []"
   ]
  },
  {
   "cell_type": "code",
   "execution_count": 175,
   "metadata": {},
   "outputs": [
    {
     "name": "stdout",
     "output_type": "stream",
     "text": [
      "Pattern is found at position: 3\n"
     ]
    }
   ],
   "source": [
    "loop = 1\n",
    "\n",
    "for i in range(loop):\n",
    "\n",
    "    Rabin_set_time = time.time()\n",
    "\n",
    "    d = 10\n",
    "\n",
    "    def search(pattern, text, q):\n",
    "        m = len(pattern)\n",
    "        n = len(text)\n",
    "        p = 0\n",
    "        t = 0\n",
    "        h = 1\n",
    "        i = 0\n",
    "        j = 0\n",
    "\n",
    "        for i in range(m-1):\n",
    "            h = (h*d) % q\n",
    "\n",
    "        # Calculate hash value for pattern and text\n",
    "        for i in range(m):\n",
    "            p = (d*p + ord(pattern[i])) % q\n",
    "            t = (d*t + ord(text[i])) % q\n",
    "\n",
    "        # Find the match\n",
    "        for i in range(n-m+1):\n",
    "            if p == t:\n",
    "                for j in range(m):\n",
    "                    if text[i+j] != pattern[j]:\n",
    "                        break\n",
    "\n",
    "                j += 1\n",
    "                if j == m:\n",
    "                    print(\"Pattern is found at position: \" + str(i+1))\n",
    "\n",
    "            if i < n-m:\n",
    "                t = (d*(t-ord(text[i])*h) + ord(text[i+m])) % q\n",
    "\n",
    "                if t < 0:\n",
    "                    t = t+q\n",
    "\n",
    "\n",
    "    txt = 'abcadabadccdbabd'\n",
    "    pat =  'cadab'\n",
    "    q = 13\n",
    "    search(pat, txt, q)\n",
    "\n",
    "    time.sleep(3)\n",
    "\n",
    "    Rabin_after_op_time = time.time()\n",
    "\n",
    "    Rabin_elapsed_time = Rabin_after_op_time - Rabin_set_time - 3\n",
    "    Rabin_times.append(Rabin_elapsed_time) "
   ]
  },
  {
   "cell_type": "code",
   "execution_count": 176,
   "metadata": {},
   "outputs": [
    {
     "name": "stdout",
     "output_type": "stream",
     "text": [
      "Found pattern at index 2\n"
     ]
    }
   ],
   "source": [
    "loop = 1\n",
    "\n",
    "for i in range(loop):\n",
    "    Kmp_set_time = time.time()\n",
    "\n",
    "    def KMPSearch(pat,text):\n",
    "        n = len(pat)\n",
    "        m = len(text)\n",
    "    \n",
    "        lps = [0]*n\n",
    "        j = 0\n",
    "\n",
    "        lpscalculate(pat,n,lps)\n",
    "\n",
    "        i = 0\n",
    "        while (m - i) >= (n - j):\n",
    "            if pat[j] == txt[i]:\n",
    "                i += 1\n",
    "                j += 1\n",
    "            if j == n:\n",
    "                print(\"Found pattern at index \" + str(i-j))\n",
    "                j = lps[j-1]\n",
    " \n",
    "  \n",
    "            elif i < m and pat[j] != txt[i]:\n",
    "           \n",
    "                if j != 0:\n",
    "                    j = lps[j-1]\n",
    "                else:\n",
    "                    i += 1   \n",
    "        return True\n",
    "\n",
    "\n",
    "    def lpscalculate(pat,n,lps):\n",
    "        len = 0  \n",
    " \n",
    "        lps[0] = 0\n",
    "        i = 1\n",
    "\n",
    "        while i < n:\n",
    "            if pat[i] == pat[len]:\n",
    "                len += 1\n",
    "                lps[i] = len\n",
    "                i += 1\n",
    "            else:\n",
    " \n",
    "                if len != 0:\n",
    "                    len = lps[len-1]\n",
    " \n",
    "                else:\n",
    "                    lps[i] = 0\n",
    "                    i += 1\n",
    "         \n",
    "        return True\n",
    "\n",
    " \n",
    "    txt = 'abcadabadccdbabd'\n",
    "    pat =  'cadab'\n",
    "    KMPSearch(pat, txt)\n",
    "\n",
    "    time.sleep(3)\n",
    "\n",
    "    Kmp_after_op_time = time.time()\n",
    "\n",
    "    Kmp_elapsed_time = Kmp_after_op_time - Kmp_set_time - 3\n",
    "    Kmp_times.append(Kmp_elapsed_time)\n"
   ]
  },
  {
   "cell_type": "code",
   "execution_count": 177,
   "metadata": {},
   "outputs": [
    {
     "name": "stdout",
     "output_type": "stream",
     "text": [
      "[0.013095855712890625]\n",
      "[0.015210151672363281]\n",
      "0.013095855712890625 0.015210151672363281\n"
     ]
    },
    {
     "data": {
      "image/png": "[encoded data removed]",
      "text/plain": [
       "<Figure size 640x480 with 1 Axes>"
      ]
     },
     "metadata": {},
     "output_type": "display_data"
    }
   ],
   "source": [
    "print(Rabin_times)\n",
    "print(Kmp_times)\n",
    "Rabin_average = 0\n",
    "for i in range(len(Rabin_times)):\n",
    "    Rabin_average += Rabin_times[i]\n",
    "Rabin_average /= 1\n",
    "\n",
    "Kmp_average = 0\n",
    "for i in range(len(Kmp_times)):\n",
    "    Kmp_average += Kmp_times[i]\n",
    "Kmp_average /= 1\n",
    "\n",
    "import matplotlib.pyplot as plt\n",
    "\n",
    "Algnames = [\"Rabin Algorithm\",\"KMP Algorithm\"]\n",
    "Algtimes = [Rabin_average,Kmp_average]\n",
    "print(Rabin_average,Kmp_average)\n",
    "\n",
    "plt.bar(Algnames,Algtimes)\n",
    "\n",
    "plt.xlabel(\"Algorithms\")\n",
    "plt.ylabel(\"Execution Time\")\n",
    "\n",
    "plt.title(\"text = abcadabadccdbabd, pattern = cadab  with 1 times\")\n",
    "\n",
    "plt.show()"
   ]
  },
  {
   "attachments": {},
   "cell_type": "markdown",
   "metadata": {},
   "source": [
    "1. In the 100 Times KMP is a little bit faster than Rabin\n",
    "2. In the 10 Times Rabin is a little bit faster than KMP\n",
    "3. In the 1 Times Rabin a little bit faster than KMP\n",
    "\n",
    "sometimes KMP can be faster 7x,6x,3x or 2x than Rabin\n",
    "sometimes Rabin can be faster than Rabin with 2x"
   ]
  },
  {
   "attachments": {},
   "cell_type": "markdown",
   "metadata": {},
   "source": [
    "Rabin VS Sunday Algorithm\n"
   ]
  },
  {
   "cell_type": "code",
   "execution_count": 178,
   "metadata": {},
   "outputs": [
    {
     "name": "stdout",
     "output_type": "stream",
     "text": [
      "0.013095855712890625 0.0010106563568115234\n"
     ]
    },
    {
     "data": {
      "image/png": "[encoded data removed]",
      "text/plain": [
       "<Figure size 640x480 with 1 Axes>"
      ]
     },
     "metadata": {},
     "output_type": "display_data"
    }
   ],
   "source": [
    "\n",
    "import matplotlib.pyplot as plt\n",
    "\n",
    "Algnames = [\"Rabin Algorithm\",\"Sunday Algorithm\"]\n",
    "Algtimes = [Rabin_average,Sunday_average]\n",
    "print(Rabin_average,Sunday_average)\n",
    "\n",
    "plt.bar(Algnames,Algtimes)\n",
    "\n",
    "plt.xlabel(\"Algorithms\")\n",
    "plt.ylabel(\"Execution Time\")\n",
    "\n",
    "plt.title(\"text = abcadabadccdbabd, pattern = cadab  with 1 times\")\n",
    "\n",
    "plt.show()"
   ]
  },
  {
   "attachments": {},
   "cell_type": "markdown",
   "metadata": {},
   "source": [
    "1. In the 100 Times Rabin is a little bit faster than Sunday\n",
    "2. In the 10 Times Rabin is a little bit faster than Sunday\n",
    "3. In the 1 Times Sunday a little bit faster than Rabin\n",
    "But in this 3 situations it can be reverse to \n",
    "\n",
    "sometimes Rabin can be faster 2x or 3x than Sunday\n",
    "sometimes Sunday can be faster than Rabin with 8x,3x,2x"
   ]
  }
 ],
 "metadata": {
  "kernelspec": {
   "display_name": "Python 3",
   "language": "python",
   "name": "python3"
  },
  "language_info": {
   "codemirror_mode": {
    "name": "ipython",
    "version": 3
   },
   "file_extension": ".py",
   "mimetype": "text/x-python",
   "name": "python",
   "nbconvert_exporter": "python",
   "pygments_lexer": "ipython3",
   "version": "3.10.2"
  },
  "orig_nbformat": 4
 },
 "nbformat": 4,
 "nbformat_minor": 2
}
