{
 "cells": [
  {
   "cell_type": "code",
   "execution_count": 62,
   "metadata": {},
   "outputs": [],
   "source": [
    "import time"
   ]
  },
  {
   "attachments": {},
   "cell_type": "markdown",
   "metadata": {},
   "source": [
    "Brute Force Algorithms : \n",
    "A brute force algorithm solves a problem through exhaustion: it goes through all possible choices until a solution is found.\n",
    "The time complexity of a brute force algorithm is often proportional to the input size.\n",
    "Brute force algorithms are simple and consistent, but very slow."
   ]
  },
  {
   "cell_type": "code",
   "execution_count": 63,
   "metadata": {},
   "outputs": [
    {
     "name": "stdout",
     "output_type": "stream",
     "text": [
      "Execution time: 0.015212297439575195 seconds\n"
     ]
    }
   ],
   "source": [
    "\n",
    "\n",
    "Brute_set_time = time.time()\n",
    "\n",
    "def contains(text, pattern):\n",
    "    for i in range(len(text)):\n",
    "        for j in range(len(pattern)):\n",
    "            #Out of range\n",
    "            if i + j >= len(text):\n",
    "                break\n",
    "            #If does not match with pattern\n",
    "            if text[i + j] != pattern[j]:\n",
    "                break\n",
    "        else:\n",
    "            return True\n",
    "    return False\n",
    "\n",
    "contains('abcadabadccdbabd', 'cadab')\n",
    "time.sleep(3)\n",
    "\n",
    "Brute_after_op_time = time.time()\n",
    "\n",
    "Brute_elapsed_time = Brute_after_op_time - Brute_set_time - 3\n",
    "print('Execution time:', Brute_elapsed_time, 'seconds')"
   ]
  },
  {
   "attachments": {},
   "cell_type": "markdown",
   "metadata": {},
   "source": [
    "Sunday Algorithm"
   ]
  },
  {
   "cell_type": "code",
   "execution_count": 64,
   "metadata": {},
   "outputs": [
    {
     "name": "stdout",
     "output_type": "stream",
     "text": [
      "2\n",
      "Execution time: 0.003557443618774414 seconds\n"
     ]
    }
   ],
   "source": [
    "Sunday_set_time = time.time()\n",
    "\n",
    "def check(char, pat,lenpat,textindex):\n",
    "    j = lenpat - 1\n",
    "    a = -1\n",
    "    while j >= 0:\n",
    "        if pat[j] == char:\n",
    "            a = textindex - j\n",
    "            break\n",
    "        j -=1\n",
    "    return a\n",
    "     \n",
    "def sundayAlg(text,pat):\n",
    "    t ,p= len(text),len(pat)\n",
    "    i = 0\n",
    "    j = p - 1\n",
    "    while i < t-p :\n",
    "        b = 0\n",
    "        z = p - 1\n",
    "        while b < p: \n",
    "            if pat[z] != text[i+z]:\n",
    "                a = check(text[i+j+1],pat,p,i+j+1)\n",
    "                if a < 0:\n",
    "                    i = i + j + 2 \n",
    "                else: \n",
    "                    i = a\n",
    "                break     \n",
    "            z-=1\n",
    "            b+=1               \n",
    "        else:\n",
    "            break\n",
    "    return i                  \n",
    "\n",
    "print(sundayAlg('abcadabadccdbabd', 'cadab')) \n",
    "\n",
    "time.sleep(3)\n",
    "\n",
    "Sunday_after_op_time = time.time()\n",
    "\n",
    "Sunday_elapsed_time = Sunday_after_op_time -Sunday_set_time - 3\n",
    "print('Execution time:', Sunday_elapsed_time, 'seconds')"
   ]
  },
  {
   "attachments": {},
   "cell_type": "markdown",
   "metadata": {},
   "source": [
    "KMP Algorithm"
   ]
  },
  {
   "cell_type": "code",
   "execution_count": 65,
   "metadata": {},
   "outputs": [
    {
     "name": "stdout",
     "output_type": "stream",
     "text": [
      "Found pattern at index 2\n",
      "Execution time: 0.005546092987060547 seconds\n"
     ]
    }
   ],
   "source": [
    "\n",
    "Kmp_set_time = time.time()\n",
    "\n",
    "def KMPSearch(pat,text):\n",
    "    n = len(pat)\n",
    "    m = len(text)\n",
    "    \n",
    "    lps = [0]*n\n",
    "    j = 0\n",
    "\n",
    "    lpscalculate(pat,n,lps)\n",
    "\n",
    "    i = 0\n",
    "    while (m - i) >= (n - j):\n",
    "        if pat[j] == txt[i]:\n",
    "            i += 1\n",
    "            j += 1\n",
    "        if j == n:\n",
    "            print(\"Found pattern at index \" + str(i-j))\n",
    "            j = lps[j-1]\n",
    " \n",
    "  \n",
    "        elif i < m and pat[j] != txt[i]:\n",
    "           \n",
    "            if j != 0:\n",
    "                j = lps[j-1]\n",
    "            else:\n",
    "                i += 1   \n",
    "    return True\n",
    "\n",
    "\n",
    "def lpscalculate(pat,n,lps):\n",
    "    len = 0  \n",
    " \n",
    "    lps[0] = 0\n",
    "    i = 1\n",
    "\n",
    "    while i < n:\n",
    "        if pat[i] == pat[len]:\n",
    "            len += 1\n",
    "            lps[i] = len\n",
    "            i += 1\n",
    "        else:\n",
    " \n",
    "            if len != 0:\n",
    "                len = lps[len-1]\n",
    " \n",
    "            else:\n",
    "                lps[i] = 0\n",
    "                i += 1\n",
    "         \n",
    "    return True\n",
    "\n",
    " \n",
    "txt = 'abcadabadccdbabd'\n",
    "pat =  'cadab'\n",
    "KMPSearch(pat, txt)\n",
    "\n",
    "time.sleep(3)\n",
    "\n",
    "Kmp_after_op_time = time.time()\n",
    "\n",
    "Kmp_elapsed_time = Kmp_after_op_time - Kmp_set_time - 3\n",
    "print('Execution time:', Kmp_elapsed_time, 'seconds')\n",
    " \n"
   ]
  },
  {
   "attachments": {},
   "cell_type": "markdown",
   "metadata": {},
   "source": [
    "FSM Algorithm"
   ]
  },
  {
   "cell_type": "code",
   "execution_count": 66,
   "metadata": {},
   "outputs": [
    {
     "name": "stdout",
     "output_type": "stream",
     "text": [
      "cadab pattern has been found in that index: 10\n",
      "Execution time: 0.010241031646728516 seconds\n"
     ]
    }
   ],
   "source": [
    "\n",
    "import time\n",
    "Fsm_set_time = time.time()\n",
    "\n",
    "def FSMMatching(text):\n",
    "    gates = {\n",
    "        (0,\"c\"):1,\n",
    "        (1,\"a\"):2,\n",
    "        (2,\"d\"):3,\n",
    "        (3,\"a\"):4,\n",
    "        (4,\"b\"):4,      \n",
    "    }\n",
    "    \n",
    "    gate_index = 0\n",
    "\n",
    "    valid_index = 4\n",
    "\n",
    "    result = None\n",
    "\n",
    "    index_count = 0\n",
    "\n",
    "    for word in text:\n",
    "        if (gate_index,word) in gates:\n",
    "            gate_index = gates[(gate_index,word)]\n",
    "        else:\n",
    "            gate_index = 0  \n",
    "        \n",
    "        if gate_index == valid_index:\n",
    "            result = index_count - 2\n",
    "        if word == text[index_count-1] and text[index_count-1] == \"c\":\n",
    "            gate_index = 1       \n",
    "        index_count +=1     \n",
    "    if result is not None:\n",
    "        print(f\"cadab pattern has been found in that index: {result - 2}\")\n",
    "    else:\n",
    "        print(f\"'{text}' in this text cadab pattern does not exist\")\n",
    "\n",
    "text = \"abcasgbadccadabd\"\n",
    "FSMMatching(text)\n",
    "time.sleep(3)\n",
    "\n",
    "Fsm_after_op_time = time.time()\n",
    "\n",
    "Fsm_elapsed_time = Fsm_after_op_time - Fsm_set_time - 3\n",
    "print('Execution time:', Fsm_elapsed_time, 'seconds') \n"
   ]
  },
  {
   "attachments": {},
   "cell_type": "markdown",
   "metadata": {},
   "source": [
    "Rabin-Karp"
   ]
  },
  {
   "cell_type": "code",
   "execution_count": 67,
   "metadata": {},
   "outputs": [
    {
     "name": "stdout",
     "output_type": "stream",
     "text": [
      "Pattern is found at position: 3\n",
      "Execution time: 0.0006670951843261719 seconds\n"
     ]
    }
   ],
   "source": [
    "# Rabin-Karp algorithm in python\n",
    "\n",
    "Rabin_set_time = time.time()\n",
    "\n",
    "d = 10\n",
    "\n",
    "def search(pattern, text, q):\n",
    "    m = len(pattern)\n",
    "    n = len(text)\n",
    "    p = 0\n",
    "    t = 0\n",
    "    h = 1\n",
    "    i = 0\n",
    "    j = 0\n",
    "\n",
    "    for i in range(m-1):\n",
    "        h = (h*d) % q\n",
    "\n",
    "    # Calculate hash value for pattern and text\n",
    "    for i in range(m):\n",
    "        p = (d*p + ord(pattern[i])) % q\n",
    "        t = (d*t + ord(text[i])) % q\n",
    "\n",
    "    # Find the match\n",
    "    for i in range(n-m+1):\n",
    "        if p == t:\n",
    "            for j in range(m):\n",
    "                if text[i+j] != pattern[j]:\n",
    "                    break\n",
    "\n",
    "            j += 1\n",
    "            if j == m:\n",
    "                print(\"Pattern is found at position: \" + str(i+1))\n",
    "\n",
    "        if i < n-m:\n",
    "            t = (d*(t-ord(text[i])*h) + ord(text[i+m])) % q\n",
    "\n",
    "            if t < 0:\n",
    "                t = t+q\n",
    "\n",
    "\n",
    "txt = 'abcadabadccdbabd'\n",
    "pat =  'cadab'\n",
    "q = 13\n",
    "search(pat, txt, q)\n",
    "\n",
    "time.sleep(3)\n",
    "\n",
    "Rabin_after_op_time = time.time()\n",
    "\n",
    "Rabin_elapsed_time = Rabin_after_op_time - Rabin_set_time - 3\n",
    "print('Execution time:', Rabin_elapsed_time, 'seconds') \n"
   ]
  },
  {
   "attachments": {},
   "cell_type": "markdown",
   "metadata": {},
   "source": [
    "Z Algorithm"
   ]
  },
  {
   "cell_type": "code",
   "execution_count": 68,
   "metadata": {},
   "outputs": [
    {
     "name": "stdout",
     "output_type": "stream",
     "text": [
      "Pattern found at index 2\n",
      "Execution time: 0.011957883834838867 seconds\n"
     ]
    }
   ],
   "source": [
    "\n",
    "\n",
    "Z_set_time = time.time()\n",
    "\n",
    "def getZarr(string, z):\n",
    "\tn = len(string)\n",
    "\n",
    "\t\n",
    "\tl, r, k = 0, 0, 0\n",
    "\tfor i in range(1, n):\n",
    "\n",
    "\t\t\n",
    "\t\tif i > r:\n",
    "\t\t\tl, r = i, i\n",
    "\n",
    "\t\t\t\n",
    "\t\t\twhile r < n and string[r - l] == string[r]:\n",
    "\t\t\t\tr += 1\n",
    "\t\t\tz[i] = r - l\n",
    "\t\t\tr -= 1\n",
    "\t\telse:\n",
    "\n",
    "\t\t\t\n",
    "\t\t\tk = i - l\n",
    "\n",
    "\t\t\t\n",
    "\t\t\tif z[k] < r - i + 1:\n",
    "\t\t\t\tz[i] = z[k]\n",
    "\n",
    "\t\t\t\n",
    "\t\t\telse:\n",
    "\n",
    "\t\t\t\t\n",
    "\t\t\t\tl = i\n",
    "\t\t\t\twhile r < n and string[r - l] == string[r]:\n",
    "\t\t\t\t\tr += 1\n",
    "\t\t\t\tz[i] = r - l\n",
    "\t\t\t\tr -= 1\n",
    "\n",
    "\n",
    "def search(text, pattern):\n",
    "\n",
    "\t\n",
    "\tconcat = pattern + \"$\" + text\n",
    "\tl = len(concat)\n",
    "\n",
    "\t\n",
    "\tz = [0] * l\n",
    "\tgetZarr(concat, z)\n",
    "\n",
    "\t\n",
    "\tfor i in range(l):\n",
    "\n",
    "\t\tif z[i] == len(pattern):\n",
    "\t\t\tprint(\"Pattern found at index\",\n",
    "\t\t\t\t\ti - len(pattern) - 1)\n",
    "\n",
    "\n",
    "if __name__ == \"__main__\":\n",
    "    txt = 'abcadabadccdbabd'\n",
    "    pat =  'cadab'\n",
    "search(txt, pat)\n",
    "\n",
    "\n",
    "time.sleep(3)\n",
    "\n",
    "Z_after_op_time = time.time()\n",
    "\n",
    "Z_elapsed_time = Z_after_op_time - Z_set_time - 3\n",
    "print('Execution time:', Z_elapsed_time, 'seconds') \n"
   ]
  },
  {
   "cell_type": "code",
   "execution_count": 69,
   "metadata": {},
   "outputs": [
    {
     "name": "stdout",
     "output_type": "stream",
     "text": [
      "Brute Force EX :  0.015212297439575195\n",
      "Sunday EX :  0.003557443618774414\n",
      "KMP EX :  0.005546092987060547\n",
      "FSM EX :  0.010241031646728516\n",
      "Rabin Karp EX :  0.0006670951843261719\n",
      "Z EX :  0.011957883834838867\n"
     ]
    },
    {
     "data": {
      "image/png": "[encoded data removed]",
      "text/plain": [
       "<Figure size 640x480 with 1 Axes>"
      ]
     },
     "metadata": {},
     "output_type": "display_data"
    }
   ],
   "source": [
    "import matplotlib.pyplot as plt\n",
    "\n",
    "print(\"Brute Force EX : \", Brute_elapsed_time)\n",
    "print(\"Sunday EX : \", Sunday_elapsed_time)\n",
    "print(\"KMP EX : \", Kmp_elapsed_time)\n",
    "print(\"FSM EX : \", Fsm_elapsed_time)\n",
    "print(\"Rabin Karp EX : \", Rabin_elapsed_time)\n",
    "print(\"Z EX : \", Z_elapsed_time)\n",
    "\n",
    "AlgNames = [\"Brute Force\",\"Sunday\",\"KMP\",\"FSM\",\"Rabin Karp\",\"Z Alg\"]\n",
    "Ex_Times = [Brute_elapsed_time,Sunday_elapsed_time,Kmp_elapsed_time,Fsm_elapsed_time,Rabin_elapsed_time,Z_elapsed_time]\n",
    "\n",
    "plt.bar(AlgNames,Ex_Times)\n",
    "\n",
    "plt.xlabel(\"Algorithms\")\n",
    "plt.ylabel(\"Execution Time\")\n",
    "\n",
    "plt.title(\"text = abcadabadccdbabd, pattern = cadab\")\n",
    "\n",
    "plt.show()\n"
   ]
  }
 ],
 "metadata": {
  "kernelspec": {
   "display_name": "Python 3",
   "language": "python",
   "name": "python3"
  },
  "language_info": {
   "codemirror_mode": {
    "name": "ipython",
    "version": 3
   },
   "file_extension": ".py",
   "mimetype": "text/x-python",
   "name": "python",
   "nbconvert_exporter": "python",
   "pygments_lexer": "ipython3",
   "version": "3.10.2"
  },
  "orig_nbformat": 4
 },
 "nbformat": 4,
 "nbformat_minor": 2
}
